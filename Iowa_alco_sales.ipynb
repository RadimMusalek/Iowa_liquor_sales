{
 "cells": [
  {
   "cell_type": "code",
   "execution_count": 1,
   "metadata": {
    "ExecuteTime": {
     "end_time": "2020-12-16T08:48:51.249469Z",
     "start_time": "2020-12-16T08:48:49.691727Z"
    }
   },
   "outputs": [],
   "source": [
    "import dask.dataframe as dd\n",
    "import pandas as pd\n",
    "from dask import compute"
   ]
  },
  {
   "cell_type": "code",
   "execution_count": 10,
   "metadata": {
    "ExecuteTime": {
     "end_time": "2020-12-16T09:08:43.076270Z",
     "start_time": "2020-12-16T09:08:42.997434Z"
    }
   },
   "outputs": [
    {
     "name": "stderr",
     "output_type": "stream",
     "text": [
      "Skipping line 941: unexpected end of data\n"
     ]
    }
   ],
   "source": [
    "df_full = dd.read_csv(\"/Volumes/GoogleDrive/My Drive/Personal-Radim/Studies/Integrify/HWs/liquor_trimmed.csv\",engine=\"python\",\n",
    "            error_bad_lines=False,dtype={\n",
    "       'Bottles Sold': 'float64',\n",
    "       'County Number': 'object',\n",
    "       'Item Number': 'object',\n",
    "       'Pack': 'float64',\n",
    "       'Store Number': 'object',\n",
    "        'Zip Code' : 'object',\n",
    "       'Unnamed: 0': 'object',\n",
    "       'Vendor Number': 'object',\n",
    "        'Bottle Volume (ml)': 'float64'})"
   ]
  },
  {
   "cell_type": "code",
   "execution_count": 136,
   "metadata": {
    "ExecuteTime": {
     "end_time": "2020-12-16T13:47:22.145266Z",
     "start_time": "2020-12-16T13:46:08.120989Z"
    }
   },
   "outputs": [
    {
     "name": "stderr",
     "output_type": "stream",
     "text": [
      "Skipping line 232849: unexpected end of data\n",
      "Skipping line 232528: unexpected end of data\n",
      "Skipping line 2: ',' expected after '\"'\n",
      "Skipping line 4: ',' expected after '\"'\n",
      "Skipping line 6: ',' expected after '\"'\n",
      "Skipping line 8: ',' expected after '\"'\n",
      "Skipping line 10: ',' expected after '\"'\n",
      "Skipping line 12: ',' expected after '\"'\n",
      "Skipping line 14: ',' expected after '\"'\n",
      "Skipping line 16: ',' expected after '\"'\n",
      "Skipping line 18: ',' expected after '\"'\n",
      "Skipping line 20: ',' expected after '\"'\n",
      "Skipping line 22: ',' expected after '\"'\n",
      "Skipping line 24: ',' expected after '\"'\n",
      "Skipping line 26: ',' expected after '\"'\n",
      "Skipping line 28: ',' expected after '\"'\n",
      "Skipping line 30: ',' expected after '\"'\n",
      "Skipping line 32: ',' expected after '\"'\n",
      "Skipping line 34: ',' expected after '\"'\n",
      "Skipping line 36: ',' expected after '\"'\n",
      "Skipping line 38: ',' expected after '\"'\n",
      "Skipping line 40: ',' expected after '\"'\n",
      "Skipping line 42: ',' expected after '\"'\n",
      "Skipping line 44: ',' expected after '\"'\n",
      "Skipping line 46: ',' expected after '\"'\n",
      "Skipping line 48: ',' expected after '\"'\n",
      "Skipping line 50: ',' expected after '\"'\n",
      "Skipping line 52: ',' expected after '\"'\n",
      "Skipping line 54: ',' expected after '\"'\n",
      "Skipping line 56: ',' expected after '\"'\n",
      "Skipping line 58: ',' expected after '\"'\n",
      "Skipping line 60: ',' expected after '\"'\n",
      "Skipping line 233349: unexpected end of data\n",
      "Skipping line 233321: unexpected end of data\n"
     ]
    }
   ],
   "source": [
    "df_final = dd.from_pandas(df_full.compute(), npartitions=8).dropna(subset = ['Date', 'State Bottle Cost', 'Vendor Number'])"
   ]
  },
  {
   "cell_type": "code",
   "execution_count": 137,
   "metadata": {
    "ExecuteTime": {
     "end_time": "2020-12-16T13:47:32.770715Z",
     "start_time": "2020-12-16T13:47:27.488534Z"
    }
   },
   "outputs": [
    {
     "data": {
      "text/plain": [
       "(2000905, 24)"
      ]
     },
     "execution_count": 137,
     "metadata": {},
     "output_type": "execute_result"
    }
   ],
   "source": [
    "df_final.compute().shape"
   ]
  },
  {
   "cell_type": "code",
   "execution_count": 138,
   "metadata": {
    "ExecuteTime": {
     "end_time": "2020-12-16T13:47:42.443543Z",
     "start_time": "2020-12-16T13:47:37.184620Z"
    }
   },
   "outputs": [
    {
     "data": {
      "text/plain": [
       "Invoice/Item Number         0\n",
       "Date                        0\n",
       "Store Number                0\n",
       "Store Name                  0\n",
       "Address                  1411\n",
       "City                     1410\n",
       "Zip Code                 1410\n",
       "Store Location           1410\n",
       "County Number            1410\n",
       "County                   1410\n",
       "Category                 5898\n",
       "Category Name            5898\n",
       "Vendor Number               0\n",
       "Vendor Name                 0\n",
       "Item Number                 0\n",
       "Item Description            0\n",
       "Pack                        0\n",
       "Bottle Volume (ml)          0\n",
       "State Bottle Cost           0\n",
       "State Bottle Retail         0\n",
       "Bottles Sold                0\n",
       "Sale (Dollars)              0\n",
       "Volume Sold (Liters)        0\n",
       "Volume Sold (Gallons)       0\n",
       "dtype: int64"
      ]
     },
     "execution_count": 138,
     "metadata": {},
     "output_type": "execute_result"
    }
   ],
   "source": [
    "df_final.isnull().sum().compute()"
   ]
  },
  {
   "cell_type": "code",
   "execution_count": 100,
   "metadata": {
    "ExecuteTime": {
     "end_time": "2020-12-16T11:48:55.566097Z",
     "start_time": "2020-12-16T11:48:54.015528Z"
    }
   },
   "outputs": [
    {
     "name": "stderr",
     "output_type": "stream",
     "text": [
      "/Users/radimmusalek/opt/anaconda3/lib/python3.7/site-packages/dask/dataframe/core.py:3661: UserWarning: Boolean Series key will be reindexed to match DataFrame index.\n",
      "  meta = self._meta[_extract_meta(key)]\n"
     ]
    }
   ],
   "source": [
    "df_no_cat = df_full_4[df_full_4[\"Category Name\"].isna().compute()]"
   ]
  },
  {
   "cell_type": "code",
   "execution_count": 104,
   "metadata": {
    "ExecuteTime": {
     "end_time": "2020-12-16T11:50:21.251286Z",
     "start_time": "2020-12-16T11:50:21.123773Z"
    }
   },
   "outputs": [
    {
     "data": {
      "text/html": [
       "<div><strong>Dask DataFrame Structure:</strong></div>\n",
       "<div>\n",
       "<style scoped>\n",
       "    .dataframe tbody tr th:only-of-type {\n",
       "        vertical-align: middle;\n",
       "    }\n",
       "\n",
       "    .dataframe tbody tr th {\n",
       "        vertical-align: top;\n",
       "    }\n",
       "\n",
       "    .dataframe thead th {\n",
       "        text-align: right;\n",
       "    }\n",
       "</style>\n",
       "<table border=\"1\" class=\"dataframe\">\n",
       "  <thead>\n",
       "    <tr style=\"text-align: right;\">\n",
       "      <th></th>\n",
       "      <th>index</th>\n",
       "      <th>Invoice/Item Number</th>\n",
       "      <th>Date</th>\n",
       "      <th>Store Number</th>\n",
       "      <th>Store Name</th>\n",
       "      <th>Address</th>\n",
       "      <th>City</th>\n",
       "      <th>Zip Code</th>\n",
       "      <th>Store Location</th>\n",
       "      <th>County Number</th>\n",
       "      <th>County</th>\n",
       "      <th>Category</th>\n",
       "      <th>Category Name</th>\n",
       "      <th>Vendor Number</th>\n",
       "      <th>Vendor Name</th>\n",
       "      <th>Item Number</th>\n",
       "      <th>Item Description</th>\n",
       "      <th>Pack</th>\n",
       "      <th>Bottle Volume (ml)</th>\n",
       "      <th>State Bottle Cost</th>\n",
       "      <th>State Bottle Retail</th>\n",
       "      <th>Bottles Sold</th>\n",
       "      <th>Sale (Dollars)</th>\n",
       "      <th>Volume Sold (Liters)</th>\n",
       "      <th>Volume Sold (Gallons)</th>\n",
       "    </tr>\n",
       "    <tr>\n",
       "      <th>npartitions=8</th>\n",
       "      <th></th>\n",
       "      <th></th>\n",
       "      <th></th>\n",
       "      <th></th>\n",
       "      <th></th>\n",
       "      <th></th>\n",
       "      <th></th>\n",
       "      <th></th>\n",
       "      <th></th>\n",
       "      <th></th>\n",
       "      <th></th>\n",
       "      <th></th>\n",
       "      <th></th>\n",
       "      <th></th>\n",
       "      <th></th>\n",
       "      <th></th>\n",
       "      <th></th>\n",
       "      <th></th>\n",
       "      <th></th>\n",
       "      <th></th>\n",
       "      <th></th>\n",
       "      <th></th>\n",
       "      <th></th>\n",
       "      <th></th>\n",
       "      <th></th>\n",
       "    </tr>\n",
       "  </thead>\n",
       "  <tbody>\n",
       "    <tr>\n",
       "      <th></th>\n",
       "      <td>int64</td>\n",
       "      <td>object</td>\n",
       "      <td>object</td>\n",
       "      <td>object</td>\n",
       "      <td>object</td>\n",
       "      <td>object</td>\n",
       "      <td>object</td>\n",
       "      <td>object</td>\n",
       "      <td>object</td>\n",
       "      <td>object</td>\n",
       "      <td>object</td>\n",
       "      <td>float64</td>\n",
       "      <td>object</td>\n",
       "      <td>object</td>\n",
       "      <td>object</td>\n",
       "      <td>object</td>\n",
       "      <td>object</td>\n",
       "      <td>float64</td>\n",
       "      <td>float64</td>\n",
       "      <td>object</td>\n",
       "      <td>object</td>\n",
       "      <td>float64</td>\n",
       "      <td>object</td>\n",
       "      <td>float64</td>\n",
       "      <td>float64</td>\n",
       "    </tr>\n",
       "    <tr>\n",
       "      <th></th>\n",
       "      <td>...</td>\n",
       "      <td>...</td>\n",
       "      <td>...</td>\n",
       "      <td>...</td>\n",
       "      <td>...</td>\n",
       "      <td>...</td>\n",
       "      <td>...</td>\n",
       "      <td>...</td>\n",
       "      <td>...</td>\n",
       "      <td>...</td>\n",
       "      <td>...</td>\n",
       "      <td>...</td>\n",
       "      <td>...</td>\n",
       "      <td>...</td>\n",
       "      <td>...</td>\n",
       "      <td>...</td>\n",
       "      <td>...</td>\n",
       "      <td>...</td>\n",
       "      <td>...</td>\n",
       "      <td>...</td>\n",
       "      <td>...</td>\n",
       "      <td>...</td>\n",
       "      <td>...</td>\n",
       "      <td>...</td>\n",
       "      <td>...</td>\n",
       "    </tr>\n",
       "    <tr>\n",
       "      <th>...</th>\n",
       "      <td>...</td>\n",
       "      <td>...</td>\n",
       "      <td>...</td>\n",
       "      <td>...</td>\n",
       "      <td>...</td>\n",
       "      <td>...</td>\n",
       "      <td>...</td>\n",
       "      <td>...</td>\n",
       "      <td>...</td>\n",
       "      <td>...</td>\n",
       "      <td>...</td>\n",
       "      <td>...</td>\n",
       "      <td>...</td>\n",
       "      <td>...</td>\n",
       "      <td>...</td>\n",
       "      <td>...</td>\n",
       "      <td>...</td>\n",
       "      <td>...</td>\n",
       "      <td>...</td>\n",
       "      <td>...</td>\n",
       "      <td>...</td>\n",
       "      <td>...</td>\n",
       "      <td>...</td>\n",
       "      <td>...</td>\n",
       "      <td>...</td>\n",
       "    </tr>\n",
       "    <tr>\n",
       "      <th></th>\n",
       "      <td>...</td>\n",
       "      <td>...</td>\n",
       "      <td>...</td>\n",
       "      <td>...</td>\n",
       "      <td>...</td>\n",
       "      <td>...</td>\n",
       "      <td>...</td>\n",
       "      <td>...</td>\n",
       "      <td>...</td>\n",
       "      <td>...</td>\n",
       "      <td>...</td>\n",
       "      <td>...</td>\n",
       "      <td>...</td>\n",
       "      <td>...</td>\n",
       "      <td>...</td>\n",
       "      <td>...</td>\n",
       "      <td>...</td>\n",
       "      <td>...</td>\n",
       "      <td>...</td>\n",
       "      <td>...</td>\n",
       "      <td>...</td>\n",
       "      <td>...</td>\n",
       "      <td>...</td>\n",
       "      <td>...</td>\n",
       "      <td>...</td>\n",
       "    </tr>\n",
       "    <tr>\n",
       "      <th></th>\n",
       "      <td>...</td>\n",
       "      <td>...</td>\n",
       "      <td>...</td>\n",
       "      <td>...</td>\n",
       "      <td>...</td>\n",
       "      <td>...</td>\n",
       "      <td>...</td>\n",
       "      <td>...</td>\n",
       "      <td>...</td>\n",
       "      <td>...</td>\n",
       "      <td>...</td>\n",
       "      <td>...</td>\n",
       "      <td>...</td>\n",
       "      <td>...</td>\n",
       "      <td>...</td>\n",
       "      <td>...</td>\n",
       "      <td>...</td>\n",
       "      <td>...</td>\n",
       "      <td>...</td>\n",
       "      <td>...</td>\n",
       "      <td>...</td>\n",
       "      <td>...</td>\n",
       "      <td>...</td>\n",
       "      <td>...</td>\n",
       "      <td>...</td>\n",
       "    </tr>\n",
       "  </tbody>\n",
       "</table>\n",
       "</div>\n",
       "<div>Dask Name: reset_index, 32 tasks</div>"
      ],
      "text/plain": [
       "Dask DataFrame Structure:\n",
       "               index Invoice/Item Number    Date Store Number Store Name Address    City Zip Code Store Location County Number  County Category Category Name Vendor Number Vendor Name Item Number Item Description     Pack Bottle Volume (ml) State Bottle Cost State Bottle Retail Bottles Sold Sale (Dollars) Volume Sold (Liters) Volume Sold (Gallons)\n",
       "npartitions=8                                                                                                                                                                                                                                                                                                                                                \n",
       "               int64              object  object       object     object  object  object   object         object        object  object  float64        object        object      object      object           object  float64            float64            object              object      float64         object              float64               float64\n",
       "                 ...                 ...     ...          ...        ...     ...     ...      ...            ...           ...     ...      ...           ...           ...         ...         ...              ...      ...                ...               ...                 ...          ...            ...                  ...                   ...\n",
       "...              ...                 ...     ...          ...        ...     ...     ...      ...            ...           ...     ...      ...           ...           ...         ...         ...              ...      ...                ...               ...                 ...          ...            ...                  ...                   ...\n",
       "                 ...                 ...     ...          ...        ...     ...     ...      ...            ...           ...     ...      ...           ...           ...         ...         ...              ...      ...                ...               ...                 ...          ...            ...                  ...                   ...\n",
       "                 ...                 ...     ...          ...        ...     ...     ...      ...            ...           ...     ...      ...           ...           ...         ...         ...              ...      ...                ...               ...                 ...          ...            ...                  ...                   ...\n",
       "Dask Name: reset_index, 32 tasks"
      ]
     },
     "execution_count": 104,
     "metadata": {},
     "output_type": "execute_result"
    }
   ],
   "source": [
    "df_no_cat.reset_index()"
   ]
  },
  {
   "cell_type": "code",
   "execution_count": 106,
   "metadata": {
    "ExecuteTime": {
     "end_time": "2020-12-16T11:50:54.060469Z",
     "start_time": "2020-12-16T11:50:54.027306Z"
    }
   },
   "outputs": [],
   "source": [
    "df = df_final.dropna(subset = ['Category Name'])"
   ]
  },
  {
   "cell_type": "code",
   "execution_count": 107,
   "metadata": {
    "ExecuteTime": {
     "end_time": "2020-12-16T11:51:23.247538Z",
     "start_time": "2020-12-16T11:51:17.851012Z"
    }
   },
   "outputs": [
    {
     "data": {
      "text/plain": [
       "Invoice/Item Number         0\n",
       "Date                        0\n",
       "Store Number                0\n",
       "Store Name                  0\n",
       "Address                  1408\n",
       "City                     1407\n",
       "Zip Code                 1407\n",
       "Store Location           1407\n",
       "County Number            1407\n",
       "County                   1407\n",
       "Category                    0\n",
       "Category Name               0\n",
       "Vendor Number               0\n",
       "Vendor Name                 0\n",
       "Item Number                 0\n",
       "Item Description            0\n",
       "Pack                        0\n",
       "Bottle Volume (ml)          0\n",
       "State Bottle Cost           0\n",
       "State Bottle Retail         0\n",
       "Bottles Sold                0\n",
       "Sale (Dollars)              0\n",
       "Volume Sold (Liters)        0\n",
       "Volume Sold (Gallons)       0\n",
       "dtype: int64"
      ]
     },
     "execution_count": 107,
     "metadata": {},
     "output_type": "execute_result"
    }
   ],
   "source": [
    "df.isnull().sum().compute()"
   ]
  },
  {
   "cell_type": "code",
   "execution_count": 128,
   "metadata": {
    "ExecuteTime": {
     "end_time": "2020-12-16T13:39:06.077661Z",
     "start_time": "2020-12-16T13:39:03.057837Z"
    }
   },
   "outputs": [],
   "source": [
    "missing_addresses = df[df[\"Address\"].isna()].compute()[\"Store Number\"].unique()"
   ]
  },
  {
   "cell_type": "code",
   "execution_count": 129,
   "metadata": {
    "ExecuteTime": {
     "end_time": "2020-12-16T13:39:33.739128Z",
     "start_time": "2020-12-16T13:39:33.685135Z"
    }
   },
   "outputs": [
    {
     "data": {
      "text/plain": [
       "array(['4378', '5307', '4478', '9932', '5230', '3822', '5235', '2556',\n",
       "       '9911', '5197', '5242', '5248', '2641', '5259', '5167', '5169',\n",
       "       '5388', '4482', '5107', '5070', '4319', '5340', '5088', '4416',\n",
       "       '5185', '4983', '5305'], dtype=object)"
      ]
     },
     "execution_count": 129,
     "metadata": {},
     "output_type": "execute_result"
    }
   ],
   "source": [
    "missing_addresses"
   ]
  },
  {
   "cell_type": "code",
   "execution_count": null,
   "metadata": {},
   "outputs": [],
   "source": [
    "dict_add = {}\n",
    "for store in add_mis_store:\n",
    "    addresses = []\n",
    "    address[0]\n",
    "    \n",
    "    \n",
    "    \n",
    "    \n",
    "    dict_add[store] =\n",
    "    "
   ]
  },
  {
   "cell_type": "code",
   "execution_count": null,
   "metadata": {},
   "outputs": [],
   "source": [
    "df1 = df_dask[df_dask['Store Number'] == '4416'].fillna(value = {'Address': '501 McPherson St', 'City': 'Casey'})"
   ]
  },
  {
   "cell_type": "code",
   "execution_count": 122,
   "metadata": {
    "ExecuteTime": {
     "end_time": "2020-12-16T12:19:22.402103Z",
     "start_time": "2020-12-16T12:19:22.367388Z"
    }
   },
   "outputs": [
    {
     "data": {
      "text/plain": [
       "Index(['Invoice/Item Number', 'Date', 'Store Number', 'Store Name', 'Address',\n",
       "       'City', 'Zip Code', 'Store Location', 'County Number', 'County',\n",
       "       'Category', 'Category Name', 'Vendor Number', 'Vendor Name',\n",
       "       'Item Number', 'Item Description', 'Pack', 'Bottle Volume (ml)',\n",
       "       'State Bottle Cost', 'State Bottle Retail', 'Bottles Sold',\n",
       "       'Sale (Dollars)', 'Volume Sold (Liters)', 'Volume Sold (Gallons)'],\n",
       "      dtype='object')"
      ]
     },
     "execution_count": 122,
     "metadata": {},
     "output_type": "execute_result"
    }
   ],
   "source": [
    "df.columns"
   ]
  },
  {
   "cell_type": "code",
   "execution_count": null,
   "metadata": {},
   "outputs": [],
   "source": [
    "# remove columns 'Volume Sold (Gallons)'"
   ]
  }
 ],
 "metadata": {
  "kernelspec": {
   "display_name": "Python 3",
   "language": "python",
   "name": "python3"
  },
  "language_info": {
   "codemirror_mode": {
    "name": "ipython",
    "version": 3
   },
   "file_extension": ".py",
   "mimetype": "text/x-python",
   "name": "python",
   "nbconvert_exporter": "python",
   "pygments_lexer": "ipython3",
   "version": "3.7.4"
  },
  "latex_envs": {
   "LaTeX_envs_menu_present": true,
   "autoclose": false,
   "autocomplete": true,
   "bibliofile": "biblio.bib",
   "cite_by": "apalike",
   "current_citInitial": 1,
   "eqLabelWithNumbers": true,
   "eqNumInitial": 1,
   "hotkeys": {
    "equation": "Ctrl-E",
    "itemize": "Ctrl-I"
   },
   "labels_anchors": false,
   "latex_user_defs": false,
   "report_style_numbering": false,
   "user_envs_cfg": false
  },
  "toc": {
   "base_numbering": 1,
   "nav_menu": {},
   "number_sections": true,
   "sideBar": true,
   "skip_h1_title": false,
   "title_cell": "Table of Contents",
   "title_sidebar": "Contents",
   "toc_cell": false,
   "toc_position": {},
   "toc_section_display": true,
   "toc_window_display": false
  },
  "varInspector": {
   "cols": {
    "lenName": 16,
    "lenType": 16,
    "lenVar": 40
   },
   "kernels_config": {
    "python": {
     "delete_cmd_postfix": "",
     "delete_cmd_prefix": "del ",
     "library": "var_list.py",
     "varRefreshCmd": "print(var_dic_list())"
    },
    "r": {
     "delete_cmd_postfix": ") ",
     "delete_cmd_prefix": "rm(",
     "library": "var_list.r",
     "varRefreshCmd": "cat(var_dic_list()) "
    }
   },
   "types_to_exclude": [
    "module",
    "function",
    "builtin_function_or_method",
    "instance",
    "_Feature"
   ],
   "window_display": false
  }
 },
 "nbformat": 4,
 "nbformat_minor": 4
}
